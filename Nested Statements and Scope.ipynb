{
 "cells": [
  {
   "cell_type": "markdown",
   "metadata": {},
   "source": [
    "# Nested Statements and Scope"
   ]
  },
  {
   "cell_type": "markdown",
   "metadata": {},
   "source": [
    "Now that we have gone over on writing our own functions, its important to understand how Python deals with the variable names you assign. When you create a variable name in Python the name is stored in a name-space. Variable names also have a scope, the scope determines the visibility of that variable name to other parts of your code."
   ]
  },
  {
   "cell_type": "code",
   "execution_count": 1,
   "metadata": {},
   "outputs": [
    {
     "name": "stdout",
     "output_type": "stream",
     "text": [
      "25\n",
      "50\n"
     ]
    }
   ],
   "source": [
    "x = 25\n",
    "\n",
    "def printer():\n",
    "    x = 50  #local variable\n",
    "    return x\n",
    "print x\n",
    "print printer()"
   ]
  },
  {
   "cell_type": "code",
   "execution_count": 2,
   "metadata": {},
   "outputs": [
    {
     "name": "stdout",
     "output_type": "stream",
     "text": [
      "25\n"
     ]
    }
   ],
   "source": [
    "print x"
   ]
  },
  {
   "cell_type": "code",
   "execution_count": 3,
   "metadata": {},
   "outputs": [
    {
     "name": "stdout",
     "output_type": "stream",
     "text": [
      "50\n"
     ]
    }
   ],
   "source": [
    "print printer()"
   ]
  },
  {
   "cell_type": "markdown",
   "metadata": {},
   "source": [
    "Python has a set of rules it follows to decide what variables (such as x in this case) you are referencing in your code. "
   ]
  },
  {
   "cell_type": "raw",
   "metadata": {},
   "source": [
    "1. Name assignments will create or change local names by default.\n",
    "2. Name references search (at most) four scopes, these are:\n",
    "    -local\n",
    "    -enclosing functions\n",
    "    -global\n",
    "    -built-in\n",
    "3. Names declared in global and nonlocal statements map assigned names to enclosing module and function scopes.\n"
   ]
  },
  {
   "cell_type": "raw",
   "metadata": {},
   "source": [
    "LEGB Rule.\n",
    "\n",
    "L: Local — Names assigned in any way within a function (def or lambda)), and not declared global in that function.\n",
    "\n",
    "E: Enclosing function locals — Name in the local scope of any and all enclosing functions (def or lambda), from inner to outer.\n",
    "\n",
    "G: Global (module) — Names assigned at the top-level of a module file, or declared global in a def within the file.\n",
    "\n",
    "B: Built-in (Python) — Names preassigned in the built-in names module : open,range,SyntaxError,..."
   ]
  },
  {
   "cell_type": "code",
   "execution_count": 4,
   "metadata": {
    "collapsed": true
   },
   "outputs": [],
   "source": [
    "# Local\n",
    "\n",
    "f = lambda x:x**2"
   ]
  },
  {
   "cell_type": "code",
   "execution_count": 7,
   "metadata": {},
   "outputs": [
    {
     "name": "stdout",
     "output_type": "stream",
     "text": [
      "hello helen\n"
     ]
    }
   ],
   "source": [
    "# Enclosing function locals\n",
    "# This occurs when we have a function inside a function (nested functions)\n",
    "\n",
    "name = 'this is global'\n",
    "\n",
    "def greeting():\n",
    "    #enclosing function\n",
    "    name = 'helen'\n",
    "    \n",
    "    def hello():\n",
    "        print 'hello ' + name\n",
    "    \n",
    "    hello()\n",
    "    \n",
    "greeting()"
   ]
  },
  {
   "cell_type": "code",
   "execution_count": 8,
   "metadata": {},
   "outputs": [
    {
     "name": "stdout",
     "output_type": "stream",
     "text": [
      "this is global\n"
     ]
    }
   ],
   "source": [
    "#Global\n",
    "\n",
    "print name"
   ]
  },
  {
   "cell_type": "code",
   "execution_count": 9,
   "metadata": {},
   "outputs": [
    {
     "data": {
      "text/plain": [
       "<function len>"
      ]
     },
     "execution_count": 9,
     "metadata": {},
     "output_type": "execute_result"
    }
   ],
   "source": [
    "# Built-in\n",
    "#These are the built-in function names in Python (don't overwrite these!)\n",
    "\n",
    "len"
   ]
  },
  {
   "cell_type": "markdown",
   "metadata": {},
   "source": [
    "# Local variables"
   ]
  },
  {
   "cell_type": "markdown",
   "metadata": {},
   "source": [
    "When you declare variables inside a function definition, they are not related in any way to other variables with the same names used outside the function - i.e. variable names are local to the function. This is called the scope of the variable. All variables have the scope of the block they are declared in starting from the point of definition of the name.\n",
    "\n"
   ]
  },
  {
   "cell_type": "code",
   "execution_count": 12,
   "metadata": {},
   "outputs": [
    {
     "name": "stdout",
     "output_type": "stream",
     "text": [
      "x is 50\n",
      "change local x to 2\n",
      "x is still 50\n"
     ]
    }
   ],
   "source": [
    "x = 50\n",
    "\n",
    "def func(x):\n",
    "    print 'x is',x #Python uses the value of the parameter declared in the main block, \n",
    "                    #above the function definition.\n",
    "    x = 2 #assign the value 2 to x. The name x is local to our function.\n",
    "          #the x defined in the main block remains unaffected.\n",
    "    print 'change local x to',x\n",
    "func(x)\n",
    "print 'x is still',x #display the value of x as defined in the main block, \n",
    "                      #thereby confirming that it is actually unaffected by the local assignment \n",
    "                      #within the previously called function.\n",
    "    "
   ]
  },
  {
   "cell_type": "markdown",
   "metadata": {},
   "source": [
    "# The Global Statements"
   ]
  },
  {
   "cell_type": "raw",
   "metadata": {},
   "source": [
    "If you want to assign a value to a name defined at the top level of the program (i.e. not inside any kind of scope such as functions or classes), then you have to tell Python that the name is not local, but it is global. We do this using the global statement. It is impossible to assign a value to a variable defined outside a function without the global statement.\n",
    "\n",
    "You can use the values of such variables defined outside the function (assuming there is no variable with the same name within the function). However, this is not encouraged and should be avoided since it becomes unclear to the reader of the program as to where that variable’s definition is. Using the global statement makes it amply clear that the variable is defined in an outermost block."
   ]
  },
  {
   "cell_type": "code",
   "execution_count": 16,
   "metadata": {},
   "outputs": [
    {
     "name": "stdout",
     "output_type": "stream",
     "text": [
      "Before calling func(), x is:  50\n",
      "This function is now using the global x!\n",
      "Because of global x is:  50\n",
      "Ran func(), changed global x to 2\n",
      "Value of x (outside of func()) is:  2\n"
     ]
    }
   ],
   "source": [
    "x = 50\n",
    "\n",
    "def func():\n",
    "    global x\n",
    "    print 'This function is now using the global x!'\n",
    "    print 'Because of global x is: ', x\n",
    "    x = 2\n",
    "    print 'Ran func(), changed global x to', x\n",
    "\n",
    "print 'Before calling func(), x is: ', x\n",
    "func()\n",
    "\n",
    "print 'Value of x (outside of func()) is: ', x\n",
    "\n",
    "\n",
    "\n",
    "#The global statement is used to declare that x is a global variable - \n",
    "#hence, when we assign a value to x inside the function, \n",
    "#that change is reflected when we use the value of x in the main block.\n",
    "\n"
   ]
  },
  {
   "cell_type": "markdown",
   "metadata": {},
   "source": [
    "One last mention is that you can use the globals() and locals() functions to check what are your current local and global variables.\n",
    "\n",
    "Another thing to keep in mind is that everything in Python is an object! I can assign variables to functions just like I can with numbers!"
   ]
  },
  {
   "cell_type": "code",
   "execution_count": 14,
   "metadata": {},
   "outputs": [
    {
     "data": {
      "text/plain": [
       "{'In': ['',\n",
       "  u'x = 25\\n\\ndef printer():\\n    x = 50\\n    return x\\nprint x\\nprint printer()',\n",
       "  u'print x',\n",
       "  u'print printer()',\n",
       "  u'# Local\\n\\nf = lambda x:x**2',\n",
       "  u\"# Enclosing function locals\\n# This occurs when we have a function inside a function (nested functions)\\n\\nname = 'this is global'\\n\\ndef greeting():\\n    #enclosing function\\n    name = 'helen'\\n    \\n    def hello():\\n        print 'hello' + name\\n    \\n    hello()\\ngreeting()\",\n",
       "  u\"# Enclosing function locals\\n# This occurs when we have a function inside a function (nested functions)\\n\\nname = 'this is global'\\n\\ndef greeting():\\n    #enclosing function\\n    name = 'helen'\\n    \\n    def hello():\\n        print 'hello ' + name\\n    \\n    hello()\\ngreeting()\",\n",
       "  u\"# Enclosing function locals\\n# This occurs when we have a function inside a function (nested functions)\\n\\nname = 'this is global'\\n\\ndef greeting():\\n    #enclosing function\\n    name = 'helen'\\n    \\n    def hello():\\n        print 'hello ' + name\\n    \\n    hello()\\n    \\ngreeting()\",\n",
       "  u'#Global\\n\\nprint name',\n",
       "  u\"# Built-in\\n#These are the built-in function names in Python (don't overwrite these!)\\n\\nlen\",\n",
       "  u\"x = 50\\n\\ndef func():\\n    print 'x is ',x #Python uses the value of the parameter declared in the main block, \\n                    #above the function definition.\\n    x = 2 #assign the value 2 to x. The name x is local to our function.\\n          #the x defined in the main block remains unaffected.\\n    print 'change local x to ',x\\nfunc(x)\\nprint 'x is still ',x #display the value of x as defined in the main block, \\n                      #thereby confirming that it is actually unaffected by the local assignment \\n                      #within the previously called function.\\n    \",\n",
       "  u\"x = 50\\n\\ndef func(x):\\n    print 'x is ',x #Python uses the value of the parameter declared in the main block, \\n                    #above the function definition.\\n    x = 2 #assign the value 2 to x. The name x is local to our function.\\n          #the x defined in the main block remains unaffected.\\n    print 'change local x to ',x\\nfunc(x)\\nprint 'x is still ',x #display the value of x as defined in the main block, \\n                      #thereby confirming that it is actually unaffected by the local assignment \\n                      #within the previously called function.\\n    \",\n",
       "  u\"x = 50\\n\\ndef func(x):\\n    print 'x is',x #Python uses the value of the parameter declared in the main block, \\n                    #above the function definition.\\n    x = 2 #assign the value 2 to x. The name x is local to our function.\\n          #the x defined in the main block remains unaffected.\\n    print 'change local x to',x\\nfunc(x)\\nprint 'x is still',x #display the value of x as defined in the main block, \\n                      #thereby confirming that it is actually unaffected by the local assignment \\n                      #within the previously called function.\\n    \",\n",
       "  u\"x = 50\\n\\ndef func():\\n    global x\\n    print 'This function is now using the global x!'\\n    print 'Because of global x is: ', x\\n    x = 2\\n    print 'Ran func(), changed global x to', x\\n\\nprint 'Before calling func(), x is: ', x\\nfunc()\\nprint 'Value of x (outside of func()) is: ', x\",\n",
       "  u'globals()'],\n",
       " 'Out': {9: <function len>},\n",
       " '_': <function len>,\n",
       " '_9': <function len>,\n",
       " '__': '',\n",
       " '___': '',\n",
       " '__builtin__': <module '__builtin__' (built-in)>,\n",
       " '__builtins__': <module '__builtin__' (built-in)>,\n",
       " '__doc__': 'Automatically created module for IPython interactive environment',\n",
       " '__name__': '__main__',\n",
       " '_dh': [u'/Users/yamengsun'],\n",
       " '_i': u\"x = 50\\n\\ndef func():\\n    global x\\n    print 'This function is now using the global x!'\\n    print 'Because of global x is: ', x\\n    x = 2\\n    print 'Ran func(), changed global x to', x\\n\\nprint 'Before calling func(), x is: ', x\\nfunc()\\nprint 'Value of x (outside of func()) is: ', x\",\n",
       " '_i1': u'x = 25\\n\\ndef printer():\\n    x = 50\\n    return x\\nprint x\\nprint printer()',\n",
       " '_i10': u\"x = 50\\n\\ndef func():\\n    print 'x is ',x #Python uses the value of the parameter declared in the main block, \\n                    #above the function definition.\\n    x = 2 #assign the value 2 to x. The name x is local to our function.\\n          #the x defined in the main block remains unaffected.\\n    print 'change local x to ',x\\nfunc(x)\\nprint 'x is still ',x #display the value of x as defined in the main block, \\n                      #thereby confirming that it is actually unaffected by the local assignment \\n                      #within the previously called function.\\n    \",\n",
       " '_i11': u\"x = 50\\n\\ndef func(x):\\n    print 'x is ',x #Python uses the value of the parameter declared in the main block, \\n                    #above the function definition.\\n    x = 2 #assign the value 2 to x. The name x is local to our function.\\n          #the x defined in the main block remains unaffected.\\n    print 'change local x to ',x\\nfunc(x)\\nprint 'x is still ',x #display the value of x as defined in the main block, \\n                      #thereby confirming that it is actually unaffected by the local assignment \\n                      #within the previously called function.\\n    \",\n",
       " '_i12': u\"x = 50\\n\\ndef func(x):\\n    print 'x is',x #Python uses the value of the parameter declared in the main block, \\n                    #above the function definition.\\n    x = 2 #assign the value 2 to x. The name x is local to our function.\\n          #the x defined in the main block remains unaffected.\\n    print 'change local x to',x\\nfunc(x)\\nprint 'x is still',x #display the value of x as defined in the main block, \\n                      #thereby confirming that it is actually unaffected by the local assignment \\n                      #within the previously called function.\\n    \",\n",
       " '_i13': u\"x = 50\\n\\ndef func():\\n    global x\\n    print 'This function is now using the global x!'\\n    print 'Because of global x is: ', x\\n    x = 2\\n    print 'Ran func(), changed global x to', x\\n\\nprint 'Before calling func(), x is: ', x\\nfunc()\\nprint 'Value of x (outside of func()) is: ', x\",\n",
       " '_i14': u'globals()',\n",
       " '_i2': u'print x',\n",
       " '_i3': u'print printer()',\n",
       " '_i4': u'# Local\\n\\nf = lambda x:x**2',\n",
       " '_i5': u\"# Enclosing function locals\\n# This occurs when we have a function inside a function (nested functions)\\n\\nname = 'this is global'\\n\\ndef greeting():\\n    #enclosing function\\n    name = 'helen'\\n    \\n    def hello():\\n        print 'hello' + name\\n    \\n    hello()\\ngreeting()\",\n",
       " '_i6': u\"# Enclosing function locals\\n# This occurs when we have a function inside a function (nested functions)\\n\\nname = 'this is global'\\n\\ndef greeting():\\n    #enclosing function\\n    name = 'helen'\\n    \\n    def hello():\\n        print 'hello ' + name\\n    \\n    hello()\\ngreeting()\",\n",
       " '_i7': u\"# Enclosing function locals\\n# This occurs when we have a function inside a function (nested functions)\\n\\nname = 'this is global'\\n\\ndef greeting():\\n    #enclosing function\\n    name = 'helen'\\n    \\n    def hello():\\n        print 'hello ' + name\\n    \\n    hello()\\n    \\ngreeting()\",\n",
       " '_i8': u'#Global\\n\\nprint name',\n",
       " '_i9': u\"# Built-in\\n#These are the built-in function names in Python (don't overwrite these!)\\n\\nlen\",\n",
       " '_ih': ['',\n",
       "  u'x = 25\\n\\ndef printer():\\n    x = 50\\n    return x\\nprint x\\nprint printer()',\n",
       "  u'print x',\n",
       "  u'print printer()',\n",
       "  u'# Local\\n\\nf = lambda x:x**2',\n",
       "  u\"# Enclosing function locals\\n# This occurs when we have a function inside a function (nested functions)\\n\\nname = 'this is global'\\n\\ndef greeting():\\n    #enclosing function\\n    name = 'helen'\\n    \\n    def hello():\\n        print 'hello' + name\\n    \\n    hello()\\ngreeting()\",\n",
       "  u\"# Enclosing function locals\\n# This occurs when we have a function inside a function (nested functions)\\n\\nname = 'this is global'\\n\\ndef greeting():\\n    #enclosing function\\n    name = 'helen'\\n    \\n    def hello():\\n        print 'hello ' + name\\n    \\n    hello()\\ngreeting()\",\n",
       "  u\"# Enclosing function locals\\n# This occurs when we have a function inside a function (nested functions)\\n\\nname = 'this is global'\\n\\ndef greeting():\\n    #enclosing function\\n    name = 'helen'\\n    \\n    def hello():\\n        print 'hello ' + name\\n    \\n    hello()\\n    \\ngreeting()\",\n",
       "  u'#Global\\n\\nprint name',\n",
       "  u\"# Built-in\\n#These are the built-in function names in Python (don't overwrite these!)\\n\\nlen\",\n",
       "  u\"x = 50\\n\\ndef func():\\n    print 'x is ',x #Python uses the value of the parameter declared in the main block, \\n                    #above the function definition.\\n    x = 2 #assign the value 2 to x. The name x is local to our function.\\n          #the x defined in the main block remains unaffected.\\n    print 'change local x to ',x\\nfunc(x)\\nprint 'x is still ',x #display the value of x as defined in the main block, \\n                      #thereby confirming that it is actually unaffected by the local assignment \\n                      #within the previously called function.\\n    \",\n",
       "  u\"x = 50\\n\\ndef func(x):\\n    print 'x is ',x #Python uses the value of the parameter declared in the main block, \\n                    #above the function definition.\\n    x = 2 #assign the value 2 to x. The name x is local to our function.\\n          #the x defined in the main block remains unaffected.\\n    print 'change local x to ',x\\nfunc(x)\\nprint 'x is still ',x #display the value of x as defined in the main block, \\n                      #thereby confirming that it is actually unaffected by the local assignment \\n                      #within the previously called function.\\n    \",\n",
       "  u\"x = 50\\n\\ndef func(x):\\n    print 'x is',x #Python uses the value of the parameter declared in the main block, \\n                    #above the function definition.\\n    x = 2 #assign the value 2 to x. The name x is local to our function.\\n          #the x defined in the main block remains unaffected.\\n    print 'change local x to',x\\nfunc(x)\\nprint 'x is still',x #display the value of x as defined in the main block, \\n                      #thereby confirming that it is actually unaffected by the local assignment \\n                      #within the previously called function.\\n    \",\n",
       "  u\"x = 50\\n\\ndef func():\\n    global x\\n    print 'This function is now using the global x!'\\n    print 'Because of global x is: ', x\\n    x = 2\\n    print 'Ran func(), changed global x to', x\\n\\nprint 'Before calling func(), x is: ', x\\nfunc()\\nprint 'Value of x (outside of func()) is: ', x\",\n",
       "  u'globals()'],\n",
       " '_ii': u\"x = 50\\n\\ndef func(x):\\n    print 'x is',x #Python uses the value of the parameter declared in the main block, \\n                    #above the function definition.\\n    x = 2 #assign the value 2 to x. The name x is local to our function.\\n          #the x defined in the main block remains unaffected.\\n    print 'change local x to',x\\nfunc(x)\\nprint 'x is still',x #display the value of x as defined in the main block, \\n                      #thereby confirming that it is actually unaffected by the local assignment \\n                      #within the previously called function.\\n    \",\n",
       " '_iii': u\"x = 50\\n\\ndef func(x):\\n    print 'x is ',x #Python uses the value of the parameter declared in the main block, \\n                    #above the function definition.\\n    x = 2 #assign the value 2 to x. The name x is local to our function.\\n          #the x defined in the main block remains unaffected.\\n    print 'change local x to ',x\\nfunc(x)\\nprint 'x is still ',x #display the value of x as defined in the main block, \\n                      #thereby confirming that it is actually unaffected by the local assignment \\n                      #within the previously called function.\\n    \",\n",
       " '_oh': {9: <function len>},\n",
       " '_sh': <module 'IPython.core.shadowns' from '/Users/yamengsun/anaconda2/lib/python2.7/site-packages/IPython/core/shadowns.pyc'>,\n",
       " 'exit': <IPython.core.autocall.ZMQExitAutocall at 0x10dea92d0>,\n",
       " 'f': <function __main__.<lambda>>,\n",
       " 'func': <function __main__.func>,\n",
       " 'get_ipython': <bound method ZMQInteractiveShell.get_ipython of <ipykernel.zmqshell.ZMQInteractiveShell object at 0x10dce5b90>>,\n",
       " 'greeting': <function __main__.greeting>,\n",
       " 'name': 'this is global',\n",
       " 'printer': <function __main__.printer>,\n",
       " 'quit': <IPython.core.autocall.ZMQExitAutocall at 0x10dea92d0>,\n",
       " 'x': 2}"
      ]
     },
     "execution_count": 14,
     "metadata": {},
     "output_type": "execute_result"
    }
   ],
   "source": [
    "globals()"
   ]
  },
  {
   "cell_type": "code",
   "execution_count": null,
   "metadata": {
    "collapsed": true
   },
   "outputs": [],
   "source": []
  }
 ],
 "metadata": {
  "kernelspec": {
   "display_name": "Python 2",
   "language": "python",
   "name": "python2"
  },
  "language_info": {
   "codemirror_mode": {
    "name": "ipython",
    "version": 2
   },
   "file_extension": ".py",
   "mimetype": "text/x-python",
   "name": "python",
   "nbconvert_exporter": "python",
   "pygments_lexer": "ipython2",
   "version": "2.7.14"
  }
 },
 "nbformat": 4,
 "nbformat_minor": 2
}
