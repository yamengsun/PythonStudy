{
 "cells": [
  {
   "cell_type": "markdown",
   "metadata": {},
   "source": [
    "# Python Statements"
   ]
  },
  {
   "cell_type": "markdown",
   "metadata": {},
   "source": [
    "if a > b:\n",
    "    a = 2\n",
    "    b = 4"
   ]
  },
  {
   "cell_type": "markdown",
   "metadata": {},
   "source": [
    "Python gets rid of () and {} by incorporating two main factors: a colon and whitespace. "
   ]
  },
  {
   "cell_type": "markdown",
   "metadata": {},
   "source": [
    "# if,elif,else Statements"
   ]
  },
  {
   "cell_type": "markdown",
   "metadata": {},
   "source": [
    "\"Hey if this case happens, perform some action. Else if another case happens, perform some other action. Else-- none of the above cases happened, perform this action\""
   ]
  },
  {
   "cell_type": "markdown",
   "metadata": {},
   "source": [
    "if case1:\n",
    "    perform action1\n",
    "elif case2:\n",
    "    perform action2\n",
    "else: \n",
    "    perform action 3"
   ]
  },
  {
   "cell_type": "markdown",
   "metadata": {},
   "source": [
    "# First Example"
   ]
  },
  {
   "cell_type": "code",
   "execution_count": 2,
   "metadata": {},
   "outputs": [
    {
     "name": "stdout",
     "output_type": "stream",
     "text": [
      "It is true\n"
     ]
    }
   ],
   "source": [
    "if True:\n",
    "    print 'It is true'"
   ]
  },
  {
   "cell_type": "code",
   "execution_count": 5,
   "metadata": {},
   "outputs": [
    {
     "name": "stdout",
     "output_type": "stream",
     "text": [
      "i will print anything x is not true\n"
     ]
    }
   ],
   "source": [
    "x = False\n",
    "if x:\n",
    "    print 'x is true'\n",
    "else: \n",
    "    print 'i will print anything x is not true'"
   ]
  },
  {
   "cell_type": "markdown",
   "metadata": {},
   "source": [
    "# Multiple Branches"
   ]
  },
  {
   "cell_type": "code",
   "execution_count": 9,
   "metadata": {},
   "outputs": [
    {
     "name": "stdout",
     "output_type": "stream",
     "text": [
      "it is mall\n"
     ]
    }
   ],
   "source": [
    "loc = 'Mall'\n",
    "\n",
    "if loc == 'Bank':\n",
    "    print 'it is bank'\n",
    "elif loc == 'Auto shop':\n",
    "    print 'it is auto shop'\n",
    "elif loc == 'Mall':\n",
    "    print 'it is mall'\n",
    "else:\n",
    "    print 'it is nothing'"
   ]
  },
  {
   "cell_type": "code",
   "execution_count": 12,
   "metadata": {},
   "outputs": [
    {
     "name": "stdout",
     "output_type": "stream",
     "text": [
      "Hi SAM\n"
     ]
    }
   ],
   "source": [
    "person = 'SAM'\n",
    "if person == 'LEO':\n",
    "    print 'Hi LEO'\n",
    "elif person == 'SAM':\n",
    "    print 'Hi SAM'\n",
    "else: \n",
    "    print \"what's your name?\""
   ]
  },
  {
   "cell_type": "code",
   "execution_count": null,
   "metadata": {
    "collapsed": true
   },
   "outputs": [],
   "source": []
  }
 ],
 "metadata": {
  "kernelspec": {
   "display_name": "Python 2",
   "language": "python",
   "name": "python2"
  },
  "language_info": {
   "codemirror_mode": {
    "name": "ipython",
    "version": 2
   },
   "file_extension": ".py",
   "mimetype": "text/x-python",
   "name": "python",
   "nbconvert_exporter": "python",
   "pygments_lexer": "ipython2",
   "version": "2.7.14"
  }
 },
 "nbformat": 4,
 "nbformat_minor": 2
}
